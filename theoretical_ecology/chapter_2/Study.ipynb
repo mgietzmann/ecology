{
 "cells": [
  {
   "cell_type": "code",
   "execution_count": 1,
   "metadata": {},
   "outputs": [],
   "source": [
    "import pandas as pd\n",
    "import numpy as np\n",
    "import plotly.express as px"
   ]
  },
  {
   "cell_type": "markdown",
   "metadata": {},
   "source": [
    "## Section 2.2\n",
    "\n",
    "- The Interaction Coefficient: $\\alpha_{ij}$\n",
    "- Population Size: $N_i$\n",
    "- Nominal Per Capita Growth Rate: $r_i^0$\n",
    "\n",
    "$$\\frac{dN}{dt}=r_i^0\\left( 1 - \\sum_j \\alpha_{ij} N_j \\right) N_i$$"
   ]
  },
  {
   "cell_type": "code",
   "execution_count": null,
   "metadata": {},
   "outputs": [],
   "source": [
    "alpha = np.array([\n",
    "    [1, 0.5],\n",
    "    [0.5, 2]\n",
    "])\n",
    "r = np.array([1, 1])\n",
    "N = np.array([1, 2])\n",
    "dt = 0.05\n",
    "\n",
    "def step(N, r, alpha):\n",
    "    return r * (1 - np.sum(alpha * N, axis=1)) * N\n",
    "\n",
    "def run_sim(N, r, alpha, dt, steps):\n",
    "    N_array = [N]\n",
    "    for _ in range(steps):\n",
    "        N_array.append(\n",
    "            N_array[-1] + step(N_array[-1], r, alpha) * dt\n",
    "        )\n",
    "    return pd.DataFrame(np.array(N_array)).reset_index().rename({'index': 'step'}, axis=1).melt(id_vars=['step'], var_name='population', value_name='N')\n",
    "\n",
    "results = run_sim(N, r, alpha, dt, 100)\n",
    "px.line(results, x='step', y='N', color='population')"
   ]
  },
  {
   "cell_type": "code",
   "execution_count": null,
   "metadata": {},
   "outputs": [],
   "source": [
    "alpha = np.array([\n",
    "    [1, 1.1],\n",
    "    [1, 2]\n",
    "])\n",
    "r = np.array([1, 1])\n",
    "N = np.array([1, 2])\n",
    "results = run_sim(N, r, alpha, dt, 1000)\n",
    "px.line(results, x='step', y='N', color='population')"
   ]
  },
  {
   "cell_type": "code",
   "execution_count": null,
   "metadata": {},
   "outputs": [],
   "source": [
    "alpha = np.array([\n",
    "    [2, 3],\n",
    "    [3, 2]\n",
    "])\n",
    "r = np.array([1, 1])\n",
    "N = np.array([2.5, 2])\n",
    "results = run_sim(N, r, alpha, dt, 1000)\n",
    "px.line(results, x='step', y='N', color='population')"
   ]
  },
  {
   "cell_type": "markdown",
   "metadata": {},
   "source": [
    "|  | $\\alpha_{21} < \\alpha_{11}$ | $\\alpha_{21} > \\alpha_{11}$ |\n",
    "| --- | --- | --- |\n",
    "| $\\alpha_{12} < \\alpha_{22}$ | Stable Coexistance | $N_1$ excludes $N_2$ if $N_2$ |\n",
    "| $\\alpha_{12} > \\alpha_{22}$ | $N_2$ excludes $N_1$ if $N_1$ | The first to arrive excludes the second |\n",
    "\n",
    "**If the effect of a population on the other outweighs the effect of the population on itself it has the capability to destroy the other population.**"
   ]
  },
  {
   "cell_type": "code",
   "execution_count": null,
   "metadata": {},
   "outputs": [],
   "source": []
  }
 ],
 "metadata": {
  "kernelspec": {
   "display_name": "base",
   "language": "python",
   "name": "python3"
  },
  "language_info": {
   "codemirror_mode": {
    "name": "ipython",
    "version": 3
   },
   "file_extension": ".py",
   "mimetype": "text/x-python",
   "name": "python",
   "nbconvert_exporter": "python",
   "pygments_lexer": "ipython3",
   "version": "3.12.2"
  }
 },
 "nbformat": 4,
 "nbformat_minor": 2
}
